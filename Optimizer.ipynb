{
 "cells": [
  {
   "cell_type": "markdown",
   "metadata": {},
   "source": [
    "# ArcSOC Optimizer\n",
    "\n",
    "The following code takes ArcSOC Optimizer outputs and organizes the information.\n",
    "\n",
    "When multiple CSVs are provided (input_names), the first CSV is analyzed. The others are diff'ed with the first one to see if there are discrepancies among the recommendations."
   ]
  },
  {
   "cell_type": "code",
   "execution_count": null,
   "metadata": {},
   "outputs": [],
   "source": [
    "import pandas as pd\n",
    "from datetime import datetime\n",
    "import os\n",
    "from os import path\n",
    "from IPython.display import display"
   ]
  },
  {
   "cell_type": "code",
   "execution_count": null,
   "metadata": {},
   "outputs": [],
   "source": [
    "print(f'Run on {datetime.now()} by {os.getlogin()}')"
   ]
  },
  {
   "cell_type": "code",
   "execution_count": null,
   "metadata": {},
   "outputs": [],
   "source": [
    "# Assuming files are in the ArcSOC_Optimizer directory\n",
    "# First file will be compared to all others for detecting differences\n",
    "OPTIMIZER_DIR = 'ArcSOC_Optimizer'\n",
    "input_names = [ \"ags.ecomm911.ca_default_30_days_2022_05_10_10_17_36.csv\",\n",
    "               \"ags.ecomm911.ca_default_1_days_2022_05_12_05_02_37.csv\",\n",
    "               \"ags.ecomm911.ca_default_1_days_2022_05_11_05_02_32.csv\", \n",
    "               \"ags.ecomm911.ca_default_1_days_2022_05_10_10_21_04.csv\" ]\n",
    "input_csv = []\n",
    "for n in input_names:\n",
    "    p = path.join(OPTIMIZER_DIR, n)\n",
    "    print(f'[{len(input_csv)}]: {p}')\n",
    "    input_csv.append(pd.read_csv(p, skiprows=11))\n"
   ]
  },
  {
   "cell_type": "code",
   "execution_count": null,
   "metadata": {},
   "outputs": [],
   "source": [
    "# Filter out stopped services\n",
    "for i in range(0, len(input_csv)):\n",
    "    input_csv[i] = input_csv[i][(input_csv[i]['comment'].str.contains('stopped')==False)]"
   ]
  },
  {
   "cell_type": "code",
   "execution_count": null,
   "metadata": {},
   "outputs": [],
   "source": [
    "delta_with_usage = []\n",
    "delta = []\n",
    "for i in range(0, len(input_csv)):\n",
    "    d = input_csv[i][['service','usageSec','minOld','minNew','maxOld','maxNew']]\n",
    "    delta_with_usage.append(d.set_index('service'))\n",
    "    # This delta is only used for the diff operation\n",
    "    d = input_csv[i][['service','minOld','minNew','maxOld','maxNew']]\n",
    "    delta.append(d)\n",
    "\n",
    "# df references the first CSV's data in the min/max analyses\n",
    "df = delta_with_usage[0]\n"
   ]
  },
  {
   "cell_type": "markdown",
   "metadata": {},
   "source": [
    "## All Changes"
   ]
  },
  {
   "cell_type": "code",
   "execution_count": null,
   "metadata": {},
   "outputs": [],
   "source": [
    "#change = df.loc[(df['minOld']!=df['minNew']) | (df['maxOld']!=df['maxNew'])]\n",
    "#change"
   ]
  },
  {
   "cell_type": "markdown",
   "metadata": {},
   "source": [
    "## Differences between the first CSV and others"
   ]
  },
  {
   "cell_type": "code",
   "execution_count": null,
   "metadata": {},
   "outputs": [],
   "source": [
    "# Diff the first with other CSVs\n",
    "# This is the only place where \"delta\" is used\n",
    "for i in range(1, len(delta)):\n",
    "    print(f'diff with {input_names[i]}')\n",
    "    df1_str_tuples = delta[0].astype(str).apply(tuple, 1)\n",
    "    df2_str_tuples = delta[i].astype(str).apply(tuple, 1)\n",
    "    df1_values_in_df2_filter = df1_str_tuples.isin(df2_str_tuples)\n",
    "    df1_values_not_in_df2 = delta[0][~df1_values_in_df2_filter]\n",
    "    if len(df1_values_not_in_df2) > 0:\n",
    "        display(df1_values_not_in_df2.sort_values('service'))\n",
    "        df2_values_in_df1_filter = df2_str_tuples.isin(df1_str_tuples)\n",
    "        df2_values_not_in_df1 = delta[i][~df2_values_in_df1_filter]\n",
    "        display(df2_values_not_in_df1.sort_values('service'))\n",
    "    else:\n",
    "        print('No difference.')\n",
    "    print(\"\\n\")"
   ]
  },
  {
   "cell_type": "markdown",
   "metadata": {},
   "source": [
    "## Add delta columns\n",
    "\n",
    "So we can see +/- on the min & max easily"
   ]
  },
  {
   "cell_type": "code",
   "execution_count": null,
   "metadata": {},
   "outputs": [],
   "source": [
    "df['delta_min'] = df['minNew'] - df['minOld']\n",
    "df['delta_max'] = df['maxNew'] - df['maxOld']"
   ]
  },
  {
   "cell_type": "markdown",
   "metadata": {},
   "source": [
    "## Min Instances Lowered\n",
    "\n",
    "Find all services where ArcSOC Optimizer recommends lowering the min."
   ]
  },
  {
   "cell_type": "code",
   "execution_count": null,
   "metadata": {},
   "outputs": [],
   "source": [
    "min_down = df.loc[(df['minOld']>df['minNew'])]\n",
    "min_down.sort_values('service')"
   ]
  },
  {
   "cell_type": "markdown",
   "metadata": {},
   "source": [
    "## Min Instances Raised\n",
    "\n",
    "Find all services where ArcSOC Optimizer recommends raising the min."
   ]
  },
  {
   "cell_type": "code",
   "execution_count": null,
   "metadata": {},
   "outputs": [],
   "source": [
    "min_up = df.loc[(df['minOld']<df['minNew'])]\n",
    "min_up.sort_values('service')"
   ]
  },
  {
   "cell_type": "markdown",
   "metadata": {},
   "source": [
    "## Max Instances Lowered\n",
    "\n",
    "Find all services where ArcSOC Optimizer recommends lowering the max."
   ]
  },
  {
   "cell_type": "code",
   "execution_count": null,
   "metadata": {},
   "outputs": [],
   "source": [
    "max_down = df.loc[(df['maxOld']>df['maxNew'])]\n",
    "max_down.sort_values('service')"
   ]
  },
  {
   "cell_type": "markdown",
   "metadata": {},
   "source": [
    "## Max Instances Raised\n",
    "\n",
    "Find all services where ArcSOC Optimizer recommends raising the max."
   ]
  },
  {
   "cell_type": "code",
   "execution_count": null,
   "metadata": {},
   "outputs": [],
   "source": [
    "max_up = df.loc[(df['maxOld']<df['maxNew'])]\n",
    "max_up.sort_values('service')\n"
   ]
  },
  {
   "cell_type": "markdown",
   "metadata": {},
   "source": [
    "## Instance Math"
   ]
  },
  {
   "cell_type": "code",
   "execution_count": null,
   "metadata": {},
   "outputs": [],
   "source": [
    "# Generate a lookup of combinations of changes to the min & max\n",
    "# Read the output: where delta_min is X, delta_max has these values, and here is a count of the combination.\n",
    "grouped = df.groupby(by=['delta_min', 'delta_max']).size()\n",
    "grouped"
   ]
  },
  {
   "cell_type": "code",
   "execution_count": null,
   "metadata": {},
   "outputs": [],
   "source": [
    "# What is the sum of the recommended changes to min?\n",
    "print(df['delta_min'].sum())"
   ]
  },
  {
   "cell_type": "code",
   "execution_count": null,
   "metadata": {},
   "outputs": [],
   "source": [
    "# What is the sum of the recommended changes to max?\n",
    "print(df['delta_max'].sum())"
   ]
  },
  {
   "cell_type": "code",
   "execution_count": null,
   "metadata": {},
   "outputs": [],
   "source": []
  }
 ],
 "metadata": {
  "kernelspec": {
   "display_name": "Python [conda env:analysis] *",
   "language": "python",
   "name": "conda-env-analysis-py"
  },
  "language_info": {
   "codemirror_mode": {
    "name": "ipython",
    "version": 3
   },
   "file_extension": ".py",
   "mimetype": "text/x-python",
   "name": "python",
   "nbconvert_exporter": "python",
   "pygments_lexer": "ipython3",
   "version": "3.9.7"
  }
 },
 "nbformat": 4,
 "nbformat_minor": 4
}
